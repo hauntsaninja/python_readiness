{
 "cells": [
  {
   "cell_type": "code",
   "execution_count": 1,
   "metadata": {},
   "outputs": [],
   "source": [
    "from python_readiness import *\n"
   ]
  },
  {
   "cell_type": "code",
   "execution_count": null,
   "metadata": {},
   "outputs": [],
   "source": [
    "req_txt = \"...\""
   ]
  },
  {
   "cell_type": "code",
   "execution_count": 2,
   "metadata": {},
   "outputs": [],
   "source": [
    "reqs = sorted(set(Requirement(r).name for r in parse_requirements_txt(req_txt)))"
   ]
  },
  {
   "cell_type": "code",
   "execution_count": 27,
   "metadata": {},
   "outputs": [],
   "source": [
    "import datetime as dt\n",
    "from dataclasses import dataclass\n",
    "from collections import Counter\n",
    "\n",
    "\n",
    "@dataclass(frozen=True)\n",
    "class Result:\n",
    "    package: str\n",
    "    version: Version\n",
    "    support: PythonSupport\n",
    "    date: dt.datetime\n",
    "\n",
    "\n",
    "async def get_results(packages: list[str], python_version: tuple[int, int]):\n",
    "    session = CachedSession()\n",
    "\n",
    "    supports: list[tuple[Version | None, PythonSupport, dict[str, Any] | None]]\n",
    "    supports = await asyncio.gather(\n",
    "        *(\n",
    "            dist_support(session, p, python_version, monotonic_support=False, exclude_newer=None)\n",
    "            for p in packages\n",
    "        )\n",
    "    )\n",
    "    package_support = dict(zip(packages, supports, strict=True))\n",
    "\n",
    "    ret = []\n",
    "    counter = Counter()\n",
    "\n",
    "    for package, (version, support, file_proof) in sorted(\n",
    "        package_support.items(), key=lambda x: (-x[1][1].value, x[0])\n",
    "    ):\n",
    "        assert (file_proof is None) == (support < PythonSupport.EXPLICIT_INDICATION)\n",
    "        if file_proof is not None:\n",
    "            assert version is not None\n",
    "            upload_time = dt.datetime.fromisoformat(file_proof[\"upload-time\"])\n",
    "            ret.append(Result(package, version, support, upload_time))\n",
    "        counter[support] += 1\n",
    "\n",
    "    await session.close()\n",
    "\n",
    "    assert sum(counter.values()) == len(packages)\n",
    "    print(f\"\\nout of {len(packages)} packages:\")\n",
    "    for k, v in sorted(counter.items(), key=lambda x: x[0].value, reverse=True):\n",
    "        print(k.name, v)\n",
    "\n",
    "    return ret"
   ]
  },
  {
   "cell_type": "code",
   "execution_count": null,
   "metadata": {},
   "outputs": [],
   "source": [
    "py310_results = await get_results(reqs, (3, 10))\n",
    "py311_results = await get_results(reqs, (3, 11))\n",
    "py312_results = await get_results(reqs, (3, 12))\n",
    "py313_results = await get_results(reqs, (3, 13))"
   ]
  },
  {
   "cell_type": "code",
   "execution_count": null,
   "metadata": {},
   "outputs": [],
   "source": [
    "py310_final = dt.datetime(2021, 10, 4, tzinfo=dt.timezone.utc)\n",
    "py311_final = dt.datetime(2022, 10, 24, tzinfo=dt.timezone.utc)\n",
    "py312_final = dt.datetime(2023, 10, 2, tzinfo=dt.timezone.utc)\n",
    "py313_final = dt.datetime(2024, 10, 7, tzinfo=dt.timezone.utc)"
   ]
  },
  {
   "cell_type": "code",
   "execution_count": 32,
   "metadata": {},
   "outputs": [],
   "source": [
    "import matplotlib.pyplot as plt"
   ]
  },
  {
   "cell_type": "code",
   "execution_count": null,
   "metadata": {},
   "outputs": [],
   "source": [
    "py310_dates_relative = sorted([(r.date - py310_final).days for r in py310_results])\n",
    "py311_dates_relative = sorted([(r.date - py311_final).days for r in py311_results])\n",
    "py312_dates_relative = sorted([(r.date - py312_final).days for r in py312_results])\n",
    "py313_dates_relative = sorted([(r.date - py313_final).days for r in py313_results])\n",
    "\n",
    "plt.figure(figsize=(8, 5))\n",
    "plt.plot(py310_dates_relative, range(1, len(py310_dates_relative) + 1), label=\"3.10\")\n",
    "plt.plot(py311_dates_relative, range(1, len(py311_dates_relative) + 1), label=\"3.11\")\n",
    "plt.plot(py312_dates_relative, range(1, len(py312_dates_relative) + 1), label=\"3.12\")\n",
    "plt.plot(py313_dates_relative, range(1, len(py313_dates_relative) + 1), label=\"3.13\")\n",
    "\n",
    "plt.title('Python adoption')\n",
    "plt.xlabel('Days since final release')\n",
    "plt.ylabel('Packages definitely supporting Python')\n",
    "plt.legend()\n",
    "plt.grid(True)\n",
    "plt.show()"
   ]
  },
  {
   "cell_type": "code",
   "execution_count": null,
   "metadata": {},
   "outputs": [],
   "source": [
    "wheel_support = {PythonSupport.has_classifier_and_explicit_wheel, PythonSupport.has_explicit_wheel}\n",
    "\n",
    "py310_dates_relative = sorted([(r.date - py310_final).days for r in py310_results if r.support in wheel_support])\n",
    "py311_dates_relative = sorted([(r.date - py311_final).days for r in py311_results if r.support in wheel_support])\n",
    "py312_dates_relative = sorted([(r.date - py312_final).days for r in py312_results if r.support in wheel_support])\n",
    "py313_dates_relative = sorted([(r.date - py313_final).days for r in py313_results if r.support in wheel_support])\n",
    "\n",
    "plt.figure(figsize=(8, 5))\n",
    "plt.plot(py310_dates_relative, range(1, len(py310_dates_relative) + 1), label=\"3.10\")\n",
    "plt.plot(py311_dates_relative, range(1, len(py311_dates_relative) + 1), label=\"3.11\")\n",
    "plt.plot(py312_dates_relative, range(1, len(py312_dates_relative) + 1), label=\"3.12\")\n",
    "plt.plot(py313_dates_relative, range(1, len(py313_dates_relative) + 1), label=\"3.13\")\n",
    "\n",
    "plt.title('Python adoption amongst packages with version specific wheels')\n",
    "plt.xlabel('Days since final release')\n",
    "plt.ylabel('Packages definitely supporting Python')\n",
    "plt.legend()\n",
    "plt.grid(True)\n",
    "plt.show()"
   ]
  },
  {
   "cell_type": "code",
   "execution_count": 22,
   "metadata": {},
   "outputs": [],
   "source": [
    "def plot_python_adoption(\n",
    "    dates: list[dt.datetime],\n",
    "    vlines: list[tuple[dt.datetime, str]],\n",
    "    python_version: tuple[int, int],\n",
    "):\n",
    "    adoption_dates = sorted(dates)\n",
    "    adoption_counts = range(1, len(dates) + 1)\n",
    "\n",
    "    plt.figure(figsize=(8, 5))\n",
    "    plt.plot(adoption_dates, adoption_counts)\n",
    "\n",
    "    for date, label in vlines:\n",
    "        plt.axvline(x=date, color='r', linestyle='--', label=label)\n",
    "\n",
    "    python_str = \".\".join(map(str, python_version))\n",
    "    plt.title(f'Python {python_str} Adoption')\n",
    "    plt.xlabel('Date')\n",
    "    plt.ylabel(f'Packages definitely supporting Python {python_str}')\n",
    "    plt.legend()\n",
    "    plt.grid(True)\n",
    "    plt.show()"
   ]
  },
  {
   "cell_type": "code",
   "execution_count": null,
   "metadata": {},
   "outputs": [],
   "source": [
    "plot_python_adoption(\n",
    "    [r.date for r in py311_results],\n",
    "    # https://peps.python.org/pep-0664/\n",
    "    [\n",
    "        (dt.datetime(2022, 5, 8), \"3.11b1\"),\n",
    "        (dt.datetime(2022, 8, 8), \"3.11rc1\"),\n",
    "        (dt.datetime(2022, 10, 24), \"3.11\"),\n",
    "    ],\n",
    "    (3, 11),\n",
    ")"
   ]
  },
  {
   "cell_type": "code",
   "execution_count": null,
   "metadata": {},
   "outputs": [],
   "source": [
    "plot_python_adoption(\n",
    "    [r.date for r in py312_results],\n",
    "    # https://peps.python.org/pep-0693/\n",
    "    [\n",
    "        (dt.datetime(2023, 5, 22), \"3.12b1\"),\n",
    "        (dt.datetime(2023, 8, 6), \"3.12rc1\"),\n",
    "        (dt.datetime(2023, 10, 2), \"3.12\"),\n",
    "    ],\n",
    "    (3, 12),\n",
    ")"
   ]
  },
  {
   "cell_type": "code",
   "execution_count": null,
   "metadata": {},
   "outputs": [],
   "source": [
    "plot_python_adoption(\n",
    "    [r.date for r in py313_results],\n",
    "    # https://peps.python.org/pep-0719/\n",
    "    [\n",
    "        (dt.datetime(2024, 5, 8), \"3.13b1\"),\n",
    "        (dt.datetime(2024, 8, 1), \"3.13rc1\"),\n",
    "        (dt.datetime(2024, 10, 7), \"3.13\"),\n",
    "    ],\n",
    "    (3, 13),\n",
    ")"
   ]
  }
 ],
 "metadata": {
  "kernelspec": {
   "display_name": "python_readiness-xqyw",
   "language": "python",
   "name": "python3"
  },
  "language_info": {
   "codemirror_mode": {
    "name": "ipython",
    "version": 3
   },
   "file_extension": ".py",
   "mimetype": "text/x-python",
   "name": "python",
   "nbconvert_exporter": "python",
   "pygments_lexer": "ipython3",
   "version": "3.11.8"
  }
 },
 "nbformat": 4,
 "nbformat_minor": 2
}
